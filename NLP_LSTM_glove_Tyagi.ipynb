{
  "nbformat": 4,
  "nbformat_minor": 0,
  "metadata": {
    "colab": {
      "provenance": []
    },
    "kernelspec": {
      "name": "python3",
      "display_name": "Python 3"
    },
    "language_info": {
      "name": "python"
    }
  },
  "cells": [
    {
      "cell_type": "code",
      "execution_count": 21,
      "metadata": {
        "id": "VGSbGs-YlWhG"
      },
      "outputs": [],
      "source": [
        "#Importing the modules\n",
        "import pandas as pd\n",
        "import numpy as np\n",
        "import os\n",
        "\n",
        "from keras.models import Sequential\n",
        "from keras.layers import Dense, Embedding, LSTM, Dropout\n",
        "from keras.optimizers import Adam\n",
        "from keras.preprocessing.text import Tokenizer\n",
        "from keras_preprocessing.sequence import pad_sequences\n",
        "import matplotlib.pyplot as plt\n",
        "from keras.utils import plot_model"
      ]
    },
    {
      "cell_type": "code",
      "source": [
        "!wget http://downloads.cs.stanford.edu/nlp/data/glove.6B.zip"
      ],
      "metadata": {
        "colab": {
          "base_uri": "https://localhost:8080/"
        },
        "id": "zntnFllUnm9G",
        "outputId": "6b888dbf-e7c9-409f-a59c-a41985f7184c"
      },
      "execution_count": 3,
      "outputs": [
        {
          "output_type": "stream",
          "name": "stdout",
          "text": [
            "--2022-12-23 20:50:06--  http://downloads.cs.stanford.edu/nlp/data/glove.6B.zip\n",
            "Resolving downloads.cs.stanford.edu (downloads.cs.stanford.edu)... 171.64.64.22\n",
            "Connecting to downloads.cs.stanford.edu (downloads.cs.stanford.edu)|171.64.64.22|:80... connected.\n",
            "HTTP request sent, awaiting response... 200 OK\n",
            "Length: 862182613 (822M) [application/zip]\n",
            "Saving to: ‘glove.6B.zip’\n",
            "\n",
            "glove.6B.zip        100%[===================>] 822.24M  5.09MB/s    in 2m 40s  \n",
            "\n",
            "2022-12-23 20:52:46 (5.12 MB/s) - ‘glove.6B.zip’ saved [862182613/862182613]\n",
            "\n"
          ]
        }
      ]
    },
    {
      "cell_type": "code",
      "source": [
        "#Unzipping the files\n",
        "!unzip glove.6B.zip"
      ],
      "metadata": {
        "colab": {
          "base_uri": "https://localhost:8080/"
        },
        "id": "2vqj3cnromoL",
        "outputId": "09209619-866e-4884-92c4-47977ba18eec"
      },
      "execution_count": 4,
      "outputs": [
        {
          "output_type": "stream",
          "name": "stdout",
          "text": [
            "Archive:  glove.6B.zip\n",
            "  inflating: glove.6B.50d.txt        \n",
            "  inflating: glove.6B.100d.txt       \n",
            "  inflating: glove.6B.200d.txt       \n",
            "  inflating: glove.6B.300d.txt       \n"
          ]
        }
      ]
    },
    {
      "cell_type": "markdown",
      "source": [
        "Mounting the drive"
      ],
      "metadata": {
        "id": "saHLDkLOPbe4"
      }
    },
    {
      "cell_type": "code",
      "source": [
        "from google.colab import drive\n",
        "drive.mount('/content/drive')"
      ],
      "metadata": {
        "colab": {
          "base_uri": "https://localhost:8080/"
        },
        "id": "mcC_P_Rc1euW",
        "outputId": "9565bad6-1a5e-48c9-e379-9f12a585c106"
      },
      "execution_count": 5,
      "outputs": [
        {
          "output_type": "stream",
          "name": "stdout",
          "text": [
            "Mounted at /content/drive\n"
          ]
        }
      ]
    },
    {
      "cell_type": "markdown",
      "source": [
        "Reading the cleaned train and test data sets from drive"
      ],
      "metadata": {
        "id": "BBc9ozhIPj0Z"
      }
    },
    {
      "cell_type": "code",
      "source": [
        "#Reading the processed train dataset\n",
        "df_train_clean = pd.read_csv('/content/drive/MyDrive/IMDB_NLP/Train_reviews.csv',usecols = ['Review','Review_label'])\n",
        "#Reading the processed test dataset\n",
        "df_test_clean = pd.read_csv('/content/drive/MyDrive/IMDB_NLP/Test_reviews.csv',usecols = ['Review','Review_label'])"
      ],
      "metadata": {
        "id": "M5or0EV7qHAs"
      },
      "execution_count": 6,
      "outputs": []
    },
    {
      "cell_type": "code",
      "source": [
        "#Lets have a look at the training data!\n",
        "df_train_clean"
      ],
      "metadata": {
        "colab": {
          "base_uri": "https://localhost:8080/",
          "height": 424
        },
        "id": "YLInyBUjCT_h",
        "outputId": "b838643a-52ca-4cfb-b1cc-0c9d4da27fc4"
      },
      "execution_count": 7,
      "outputs": [
        {
          "output_type": "execute_result",
          "data": {
            "text/plain": [
              "                                                  Review  Review_label\n",
              "0      This absolutely terrible movie Dont lured Chri...           0.0\n",
              "1      I known fall asleep films usually due combinat...           0.0\n",
              "2      Mann photographs Alberta Rocky Mountains super...           0.0\n",
              "3      This kind film snowy Sunday afternoon rest wor...           1.0\n",
              "4      As others mentioned women go nude film mostly ...           1.0\n",
              "...                                                  ...           ...\n",
              "24995  I severe problem show several actually A simpl...           0.0\n",
              "24996  The year 1964 Ernesto Che Guevara Cuban citize...           1.0\n",
              "24997  Okay So I got back Before I start review let t...           0.0\n",
              "24998  When I saw trailer TV I surprised In May 2008 ...           0.0\n",
              "24999  First Riget wonderful Good comedy mystery thri...           1.0\n",
              "\n",
              "[25000 rows x 2 columns]"
            ],
            "text/html": [
              "\n",
              "  <div id=\"df-a17a5f6c-c640-4421-9033-d519d837b718\">\n",
              "    <div class=\"colab-df-container\">\n",
              "      <div>\n",
              "<style scoped>\n",
              "    .dataframe tbody tr th:only-of-type {\n",
              "        vertical-align: middle;\n",
              "    }\n",
              "\n",
              "    .dataframe tbody tr th {\n",
              "        vertical-align: top;\n",
              "    }\n",
              "\n",
              "    .dataframe thead th {\n",
              "        text-align: right;\n",
              "    }\n",
              "</style>\n",
              "<table border=\"1\" class=\"dataframe\">\n",
              "  <thead>\n",
              "    <tr style=\"text-align: right;\">\n",
              "      <th></th>\n",
              "      <th>Review</th>\n",
              "      <th>Review_label</th>\n",
              "    </tr>\n",
              "  </thead>\n",
              "  <tbody>\n",
              "    <tr>\n",
              "      <th>0</th>\n",
              "      <td>This absolutely terrible movie Dont lured Chri...</td>\n",
              "      <td>0.0</td>\n",
              "    </tr>\n",
              "    <tr>\n",
              "      <th>1</th>\n",
              "      <td>I known fall asleep films usually due combinat...</td>\n",
              "      <td>0.0</td>\n",
              "    </tr>\n",
              "    <tr>\n",
              "      <th>2</th>\n",
              "      <td>Mann photographs Alberta Rocky Mountains super...</td>\n",
              "      <td>0.0</td>\n",
              "    </tr>\n",
              "    <tr>\n",
              "      <th>3</th>\n",
              "      <td>This kind film snowy Sunday afternoon rest wor...</td>\n",
              "      <td>1.0</td>\n",
              "    </tr>\n",
              "    <tr>\n",
              "      <th>4</th>\n",
              "      <td>As others mentioned women go nude film mostly ...</td>\n",
              "      <td>1.0</td>\n",
              "    </tr>\n",
              "    <tr>\n",
              "      <th>...</th>\n",
              "      <td>...</td>\n",
              "      <td>...</td>\n",
              "    </tr>\n",
              "    <tr>\n",
              "      <th>24995</th>\n",
              "      <td>I severe problem show several actually A simpl...</td>\n",
              "      <td>0.0</td>\n",
              "    </tr>\n",
              "    <tr>\n",
              "      <th>24996</th>\n",
              "      <td>The year 1964 Ernesto Che Guevara Cuban citize...</td>\n",
              "      <td>1.0</td>\n",
              "    </tr>\n",
              "    <tr>\n",
              "      <th>24997</th>\n",
              "      <td>Okay So I got back Before I start review let t...</td>\n",
              "      <td>0.0</td>\n",
              "    </tr>\n",
              "    <tr>\n",
              "      <th>24998</th>\n",
              "      <td>When I saw trailer TV I surprised In May 2008 ...</td>\n",
              "      <td>0.0</td>\n",
              "    </tr>\n",
              "    <tr>\n",
              "      <th>24999</th>\n",
              "      <td>First Riget wonderful Good comedy mystery thri...</td>\n",
              "      <td>1.0</td>\n",
              "    </tr>\n",
              "  </tbody>\n",
              "</table>\n",
              "<p>25000 rows × 2 columns</p>\n",
              "</div>\n",
              "      <button class=\"colab-df-convert\" onclick=\"convertToInteractive('df-a17a5f6c-c640-4421-9033-d519d837b718')\"\n",
              "              title=\"Convert this dataframe to an interactive table.\"\n",
              "              style=\"display:none;\">\n",
              "        \n",
              "  <svg xmlns=\"http://www.w3.org/2000/svg\" height=\"24px\"viewBox=\"0 0 24 24\"\n",
              "       width=\"24px\">\n",
              "    <path d=\"M0 0h24v24H0V0z\" fill=\"none\"/>\n",
              "    <path d=\"M18.56 5.44l.94 2.06.94-2.06 2.06-.94-2.06-.94-.94-2.06-.94 2.06-2.06.94zm-11 1L8.5 8.5l.94-2.06 2.06-.94-2.06-.94L8.5 2.5l-.94 2.06-2.06.94zm10 10l.94 2.06.94-2.06 2.06-.94-2.06-.94-.94-2.06-.94 2.06-2.06.94z\"/><path d=\"M17.41 7.96l-1.37-1.37c-.4-.4-.92-.59-1.43-.59-.52 0-1.04.2-1.43.59L10.3 9.45l-7.72 7.72c-.78.78-.78 2.05 0 2.83L4 21.41c.39.39.9.59 1.41.59.51 0 1.02-.2 1.41-.59l7.78-7.78 2.81-2.81c.8-.78.8-2.07 0-2.86zM5.41 20L4 18.59l7.72-7.72 1.47 1.35L5.41 20z\"/>\n",
              "  </svg>\n",
              "      </button>\n",
              "      \n",
              "  <style>\n",
              "    .colab-df-container {\n",
              "      display:flex;\n",
              "      flex-wrap:wrap;\n",
              "      gap: 12px;\n",
              "    }\n",
              "\n",
              "    .colab-df-convert {\n",
              "      background-color: #E8F0FE;\n",
              "      border: none;\n",
              "      border-radius: 50%;\n",
              "      cursor: pointer;\n",
              "      display: none;\n",
              "      fill: #1967D2;\n",
              "      height: 32px;\n",
              "      padding: 0 0 0 0;\n",
              "      width: 32px;\n",
              "    }\n",
              "\n",
              "    .colab-df-convert:hover {\n",
              "      background-color: #E2EBFA;\n",
              "      box-shadow: 0px 1px 2px rgba(60, 64, 67, 0.3), 0px 1px 3px 1px rgba(60, 64, 67, 0.15);\n",
              "      fill: #174EA6;\n",
              "    }\n",
              "\n",
              "    [theme=dark] .colab-df-convert {\n",
              "      background-color: #3B4455;\n",
              "      fill: #D2E3FC;\n",
              "    }\n",
              "\n",
              "    [theme=dark] .colab-df-convert:hover {\n",
              "      background-color: #434B5C;\n",
              "      box-shadow: 0px 1px 3px 1px rgba(0, 0, 0, 0.15);\n",
              "      filter: drop-shadow(0px 1px 2px rgba(0, 0, 0, 0.3));\n",
              "      fill: #FFFFFF;\n",
              "    }\n",
              "  </style>\n",
              "\n",
              "      <script>\n",
              "        const buttonEl =\n",
              "          document.querySelector('#df-a17a5f6c-c640-4421-9033-d519d837b718 button.colab-df-convert');\n",
              "        buttonEl.style.display =\n",
              "          google.colab.kernel.accessAllowed ? 'block' : 'none';\n",
              "\n",
              "        async function convertToInteractive(key) {\n",
              "          const element = document.querySelector('#df-a17a5f6c-c640-4421-9033-d519d837b718');\n",
              "          const dataTable =\n",
              "            await google.colab.kernel.invokeFunction('convertToInteractive',\n",
              "                                                     [key], {});\n",
              "          if (!dataTable) return;\n",
              "\n",
              "          const docLinkHtml = 'Like what you see? Visit the ' +\n",
              "            '<a target=\"_blank\" href=https://colab.research.google.com/notebooks/data_table.ipynb>data table notebook</a>'\n",
              "            + ' to learn more about interactive tables.';\n",
              "          element.innerHTML = '';\n",
              "          dataTable['output_type'] = 'display_data';\n",
              "          await google.colab.output.renderOutput(dataTable, element);\n",
              "          const docLink = document.createElement('div');\n",
              "          docLink.innerHTML = docLinkHtml;\n",
              "          element.appendChild(docLink);\n",
              "        }\n",
              "      </script>\n",
              "    </div>\n",
              "  </div>\n",
              "  "
            ]
          },
          "metadata": {},
          "execution_count": 7
        }
      ]
    },
    {
      "cell_type": "code",
      "source": [
        "#Lets have a look at the test data!\n",
        "df_test_clean"
      ],
      "metadata": {
        "colab": {
          "base_uri": "https://localhost:8080/",
          "height": 424
        },
        "id": "CMaDqn_FFxvt",
        "outputId": "ee2121f0-70cc-4606-ed1b-08d10a98e61d"
      },
      "execution_count": 8,
      "outputs": [
        {
          "output_type": "execute_result",
          "data": {
            "text/plain": [
              "                                                  Review  Review_label\n",
              "0      There films make careers For George Romero NIG...           1.0\n",
              "1      A blackly comic tale downtrodden priest Nazari...           1.0\n",
              "2      Scary Movie 14 Epic Movie Date Movie Meet Spar...           0.0\n",
              "3      Poor Shirley MacLaine tries hard lend gravitas...           0.0\n",
              "4      As former Erasmus student I enjoyed film much ...           1.0\n",
              "...                                                  ...           ...\n",
              "24995  Feeling Minnesota really road movie thats stil...           0.0\n",
              "24996  This without doubt one favourite horror films ...           1.0\n",
              "24997  Most predicable movie Ive ever seenextremely b...           0.0\n",
              "24998  Its exactly I expected Relaxing humorous enter...           1.0\n",
              "24999  They dont make cartoons like used This one wit...           1.0\n",
              "\n",
              "[25000 rows x 2 columns]"
            ],
            "text/html": [
              "\n",
              "  <div id=\"df-54d6f5c6-b71e-4680-8b46-87c18269b081\">\n",
              "    <div class=\"colab-df-container\">\n",
              "      <div>\n",
              "<style scoped>\n",
              "    .dataframe tbody tr th:only-of-type {\n",
              "        vertical-align: middle;\n",
              "    }\n",
              "\n",
              "    .dataframe tbody tr th {\n",
              "        vertical-align: top;\n",
              "    }\n",
              "\n",
              "    .dataframe thead th {\n",
              "        text-align: right;\n",
              "    }\n",
              "</style>\n",
              "<table border=\"1\" class=\"dataframe\">\n",
              "  <thead>\n",
              "    <tr style=\"text-align: right;\">\n",
              "      <th></th>\n",
              "      <th>Review</th>\n",
              "      <th>Review_label</th>\n",
              "    </tr>\n",
              "  </thead>\n",
              "  <tbody>\n",
              "    <tr>\n",
              "      <th>0</th>\n",
              "      <td>There films make careers For George Romero NIG...</td>\n",
              "      <td>1.0</td>\n",
              "    </tr>\n",
              "    <tr>\n",
              "      <th>1</th>\n",
              "      <td>A blackly comic tale downtrodden priest Nazari...</td>\n",
              "      <td>1.0</td>\n",
              "    </tr>\n",
              "    <tr>\n",
              "      <th>2</th>\n",
              "      <td>Scary Movie 14 Epic Movie Date Movie Meet Spar...</td>\n",
              "      <td>0.0</td>\n",
              "    </tr>\n",
              "    <tr>\n",
              "      <th>3</th>\n",
              "      <td>Poor Shirley MacLaine tries hard lend gravitas...</td>\n",
              "      <td>0.0</td>\n",
              "    </tr>\n",
              "    <tr>\n",
              "      <th>4</th>\n",
              "      <td>As former Erasmus student I enjoyed film much ...</td>\n",
              "      <td>1.0</td>\n",
              "    </tr>\n",
              "    <tr>\n",
              "      <th>...</th>\n",
              "      <td>...</td>\n",
              "      <td>...</td>\n",
              "    </tr>\n",
              "    <tr>\n",
              "      <th>24995</th>\n",
              "      <td>Feeling Minnesota really road movie thats stil...</td>\n",
              "      <td>0.0</td>\n",
              "    </tr>\n",
              "    <tr>\n",
              "      <th>24996</th>\n",
              "      <td>This without doubt one favourite horror films ...</td>\n",
              "      <td>1.0</td>\n",
              "    </tr>\n",
              "    <tr>\n",
              "      <th>24997</th>\n",
              "      <td>Most predicable movie Ive ever seenextremely b...</td>\n",
              "      <td>0.0</td>\n",
              "    </tr>\n",
              "    <tr>\n",
              "      <th>24998</th>\n",
              "      <td>Its exactly I expected Relaxing humorous enter...</td>\n",
              "      <td>1.0</td>\n",
              "    </tr>\n",
              "    <tr>\n",
              "      <th>24999</th>\n",
              "      <td>They dont make cartoons like used This one wit...</td>\n",
              "      <td>1.0</td>\n",
              "    </tr>\n",
              "  </tbody>\n",
              "</table>\n",
              "<p>25000 rows × 2 columns</p>\n",
              "</div>\n",
              "      <button class=\"colab-df-convert\" onclick=\"convertToInteractive('df-54d6f5c6-b71e-4680-8b46-87c18269b081')\"\n",
              "              title=\"Convert this dataframe to an interactive table.\"\n",
              "              style=\"display:none;\">\n",
              "        \n",
              "  <svg xmlns=\"http://www.w3.org/2000/svg\" height=\"24px\"viewBox=\"0 0 24 24\"\n",
              "       width=\"24px\">\n",
              "    <path d=\"M0 0h24v24H0V0z\" fill=\"none\"/>\n",
              "    <path d=\"M18.56 5.44l.94 2.06.94-2.06 2.06-.94-2.06-.94-.94-2.06-.94 2.06-2.06.94zm-11 1L8.5 8.5l.94-2.06 2.06-.94-2.06-.94L8.5 2.5l-.94 2.06-2.06.94zm10 10l.94 2.06.94-2.06 2.06-.94-2.06-.94-.94-2.06-.94 2.06-2.06.94z\"/><path d=\"M17.41 7.96l-1.37-1.37c-.4-.4-.92-.59-1.43-.59-.52 0-1.04.2-1.43.59L10.3 9.45l-7.72 7.72c-.78.78-.78 2.05 0 2.83L4 21.41c.39.39.9.59 1.41.59.51 0 1.02-.2 1.41-.59l7.78-7.78 2.81-2.81c.8-.78.8-2.07 0-2.86zM5.41 20L4 18.59l7.72-7.72 1.47 1.35L5.41 20z\"/>\n",
              "  </svg>\n",
              "      </button>\n",
              "      \n",
              "  <style>\n",
              "    .colab-df-container {\n",
              "      display:flex;\n",
              "      flex-wrap:wrap;\n",
              "      gap: 12px;\n",
              "    }\n",
              "\n",
              "    .colab-df-convert {\n",
              "      background-color: #E8F0FE;\n",
              "      border: none;\n",
              "      border-radius: 50%;\n",
              "      cursor: pointer;\n",
              "      display: none;\n",
              "      fill: #1967D2;\n",
              "      height: 32px;\n",
              "      padding: 0 0 0 0;\n",
              "      width: 32px;\n",
              "    }\n",
              "\n",
              "    .colab-df-convert:hover {\n",
              "      background-color: #E2EBFA;\n",
              "      box-shadow: 0px 1px 2px rgba(60, 64, 67, 0.3), 0px 1px 3px 1px rgba(60, 64, 67, 0.15);\n",
              "      fill: #174EA6;\n",
              "    }\n",
              "\n",
              "    [theme=dark] .colab-df-convert {\n",
              "      background-color: #3B4455;\n",
              "      fill: #D2E3FC;\n",
              "    }\n",
              "\n",
              "    [theme=dark] .colab-df-convert:hover {\n",
              "      background-color: #434B5C;\n",
              "      box-shadow: 0px 1px 3px 1px rgba(0, 0, 0, 0.15);\n",
              "      filter: drop-shadow(0px 1px 2px rgba(0, 0, 0, 0.3));\n",
              "      fill: #FFFFFF;\n",
              "    }\n",
              "  </style>\n",
              "\n",
              "      <script>\n",
              "        const buttonEl =\n",
              "          document.querySelector('#df-54d6f5c6-b71e-4680-8b46-87c18269b081 button.colab-df-convert');\n",
              "        buttonEl.style.display =\n",
              "          google.colab.kernel.accessAllowed ? 'block' : 'none';\n",
              "\n",
              "        async function convertToInteractive(key) {\n",
              "          const element = document.querySelector('#df-54d6f5c6-b71e-4680-8b46-87c18269b081');\n",
              "          const dataTable =\n",
              "            await google.colab.kernel.invokeFunction('convertToInteractive',\n",
              "                                                     [key], {});\n",
              "          if (!dataTable) return;\n",
              "\n",
              "          const docLinkHtml = 'Like what you see? Visit the ' +\n",
              "            '<a target=\"_blank\" href=https://colab.research.google.com/notebooks/data_table.ipynb>data table notebook</a>'\n",
              "            + ' to learn more about interactive tables.';\n",
              "          element.innerHTML = '';\n",
              "          dataTable['output_type'] = 'display_data';\n",
              "          await google.colab.output.renderOutput(dataTable, element);\n",
              "          const docLink = document.createElement('div');\n",
              "          docLink.innerHTML = docLinkHtml;\n",
              "          element.appendChild(docLink);\n",
              "        }\n",
              "      </script>\n",
              "    </div>\n",
              "  </div>\n",
              "  "
            ]
          },
          "metadata": {},
          "execution_count": 8
        }
      ]
    },
    {
      "cell_type": "markdown",
      "source": [
        "Creating a dictionary for Glove words"
      ],
      "metadata": {
        "id": "OXoopsuoQC0K"
      }
    },
    {
      "cell_type": "code",
      "source": [
        "glove_words = dict()"
      ],
      "metadata": {
        "id": "3r6VxYJN3U2f"
      },
      "execution_count": 9,
      "outputs": []
    },
    {
      "cell_type": "code",
      "source": [
        "#Creating a function to read the unzipped file to create a dictionary containing words along with their vectors\n",
        "def glove_dict(dictionary, filename):\n",
        "    with open(filename, 'r') as f:\n",
        "          for line in f.readlines():\n",
        "               line = line.split(' ')\n",
        "               try:\n",
        "                  dictionary[line[0]] = np.array(line[1:], dtype=float) \n",
        "               except:\n",
        "                  continue\n",
        "glove_dict(glove_words, 'glove.6B.200d.txt')"
      ],
      "metadata": {
        "id": "f7bGNl0518qt"
      },
      "execution_count": 10,
      "outputs": []
    },
    {
      "cell_type": "code",
      "source": [
        "len(glove_words)"
      ],
      "metadata": {
        "colab": {
          "base_uri": "https://localhost:8080/"
        },
        "id": "FcX_aOns3agv",
        "outputId": "3c107355-2f72-4c51-a114-4bcef199c650"
      },
      "execution_count": 11,
      "outputs": [
        {
          "output_type": "execute_result",
          "data": {
            "text/plain": [
              "400000"
            ]
          },
          "metadata": {},
          "execution_count": 11
        }
      ]
    },
    {
      "cell_type": "markdown",
      "source": [
        "LSTM Model requires input in numeric form, so we need to convert the reviews to numbers. \n",
        "\n",
        "For that we use Keras Tokenizer."
      ],
      "metadata": {
        "id": "PSXqomn97TYc"
      }
    },
    {
      "cell_type": "code",
      "source": [
        "#Using Tokenizer from Keras\n",
        "#Initialisaing the tokenizer\n",
        "tok = Tokenizer(lower = True,split = ' ')    #Converting reviews in lowercase \n",
        "#Fitting it to text\n",
        "tok.fit_on_texts(df_train_clean['Review'].values)"
      ],
      "metadata": {
        "id": "Nuzj0eGl8raB"
      },
      "execution_count": 12,
      "outputs": []
    },
    {
      "cell_type": "code",
      "source": [
        "num_words = len(tok.word_index) + 1\n",
        "num_words"
      ],
      "metadata": {
        "colab": {
          "base_uri": "https://localhost:8080/"
        },
        "id": "5v6Ivtvc80Ra",
        "outputId": "c852df6b-adca-4f99-cec4-9fa09511dd06"
      },
      "execution_count": 13,
      "outputs": [
        {
          "output_type": "execute_result",
          "data": {
            "text/plain": [
              "142400"
            ]
          },
          "metadata": {},
          "execution_count": 13
        }
      ]
    },
    {
      "cell_type": "markdown",
      "source": [
        "Reviews in training and test data are converted to integers using texts_to_sequences method."
      ],
      "metadata": {
        "id": "vXxpFdRX89WV"
      }
    },
    {
      "cell_type": "code",
      "source": [
        "#Training set\n",
        "X_train = tok.texts_to_sequences(df_train_clean['Review'].values)\n",
        "#Test set\n",
        "X_test = tok.texts_to_sequences(df_test_clean['Review'].values)"
      ],
      "metadata": {
        "id": "iqRw5QM784q4"
      },
      "execution_count": 14,
      "outputs": []
    },
    {
      "cell_type": "code",
      "source": [
        "word_index = tok.word_index"
      ],
      "metadata": {
        "id": "BO8ti2jVJFEg"
      },
      "execution_count": 15,
      "outputs": []
    },
    {
      "cell_type": "markdown",
      "source": [
        "Each of the review in the data may differ in length. So we need to make them of equal length by padding(that is adding 0 if it falls short) or truncating the words."
      ],
      "metadata": {
        "id": "tnsZRJ4Y9JtL"
      }
    },
    {
      "cell_type": "code",
      "source": [
        "#Padding set to 200 (Here we have glove dictionary conatining vector for each word with 200 dimensions)\n",
        "max_length = 200\n",
        "X_train_padded = pad_sequences(X_train, padding= 'post', maxlen = max_length, truncating = \"post\")\n",
        "X_test_padded =  pad_sequences(X_test, padding= 'post', maxlen = max_length, truncating = \"post\")"
      ],
      "metadata": {
        "id": "lkmHIYi1IZJa"
      },
      "execution_count": 16,
      "outputs": []
    },
    {
      "cell_type": "code",
      "source": [
        "#Building an embedding matrix to load into our embedding layer \n",
        "embed_matrix = np.zeros((num_words,len(X_train_padded[0])))  # Shape of matrix is given maximum words with each word having 200-dimensional vector\n",
        "for word, i in  word_index.items():\n",
        "       embed_vec = glove_words.get(word)  #Getting corresponding vector for each word\n",
        "       if i < num_words:\n",
        "           if embed_vec is not None:     #Words not found in glove_words will be zero.\n",
        "                 embed_matrix[i] = embed_vec"
      ],
      "metadata": {
        "id": "fKwmEqD09l7F"
      },
      "execution_count": 17,
      "outputs": []
    },
    {
      "cell_type": "markdown",
      "source": [
        "Building LSTM Model"
      ],
      "metadata": {
        "id": "l63GVprPGScc"
      }
    },
    {
      "cell_type": "code",
      "source": [
        "#Building Sequential model\n",
        "model = Sequential()\n",
        "model.add(Embedding (num_words,200, input_length = max_length))   #Setting first layer as embedding layer\n",
        "model.add(LSTM(128,dropout = 0.1))\n",
        "model.add(Dense(1, activation = 'sigmoid'))"
      ],
      "metadata": {
        "id": "ikWNPBziOADS"
      },
      "execution_count": 18,
      "outputs": []
    },
    {
      "cell_type": "markdown",
      "source": [
        "Loading the Glove embeddings into our model"
      ],
      "metadata": {
        "id": "9WMOlmGQNjoT"
      }
    },
    {
      "cell_type": "code",
      "source": [
        "#Assigning embedding matrix as weights\n",
        "model.layers[0].set_weights([embed_matrix])\n",
        "#Assigning trainable to False as we are using glove which is pre trained\n",
        "model.layers[0].trainable = False"
      ],
      "metadata": {
        "id": "baD30v-cOvS0"
      },
      "execution_count": 19,
      "outputs": []
    },
    {
      "cell_type": "code",
      "source": [
        "print(model.summary())\n",
        "plot_model(model)"
      ],
      "metadata": {
        "colab": {
          "base_uri": "https://localhost:8080/",
          "height": 647
        },
        "id": "zsWeVzu4xOhY",
        "outputId": "be39fd0c-ede8-48a0-eb62-f6a120b366ff"
      },
      "execution_count": 22,
      "outputs": [
        {
          "output_type": "stream",
          "name": "stdout",
          "text": [
            "Model: \"sequential\"\n",
            "_________________________________________________________________\n",
            " Layer (type)                Output Shape              Param #   \n",
            "=================================================================\n",
            " embedding (Embedding)       (None, 200, 200)          28480000  \n",
            "                                                                 \n",
            " lstm (LSTM)                 (None, 128)               168448    \n",
            "                                                                 \n",
            " dense (Dense)               (None, 1)                 129       \n",
            "                                                                 \n",
            "=================================================================\n",
            "Total params: 28,648,577\n",
            "Trainable params: 168,577\n",
            "Non-trainable params: 28,480,000\n",
            "_________________________________________________________________\n",
            "None\n"
          ]
        },
        {
          "output_type": "execute_result",
          "data": {
            "image/png": "[encoded data removed]",
            "text/plain": [
              "<IPython.core.display.Image object>"
            ]
          },
          "metadata": {},
          "execution_count": 22
        }
      ]
    },
    {
      "cell_type": "code",
      "source": [
        "optimizer = Adam(learning_rate = 0.004)\n",
        "model.compile(loss = 'binary_crossentropy', optimizer= optimizer ,metrics = ['accuracy'])"
      ],
      "metadata": {
        "id": "21qr_ejZP3sZ"
      },
      "execution_count": 23,
      "outputs": []
    },
    {
      "cell_type": "code",
      "source": [
        "y_train = df_train_clean['Review_label']\n",
        "y_test = df_test_clean['Review_label']"
      ],
      "metadata": {
        "id": "2V1NDkKPQo2q"
      },
      "execution_count": 24,
      "outputs": []
    },
    {
      "cell_type": "code",
      "source": [
        "model.history = model.fit(X_train_padded, y_train, batch_size = 64, epochs = 10,validation_data = (X_test_padded, y_test))"
      ],
      "metadata": {
        "colab": {
          "base_uri": "https://localhost:8080/"
        },
        "id": "zBHtBr6aQQRj",
        "outputId": "e6a4662c-a221-4df9-d5de-6ff177946bfd"
      },
      "execution_count": 25,
      "outputs": [
        {
          "output_type": "stream",
          "name": "stdout",
          "text": [
            "Epoch 1/10\n",
            "391/391 [==============================] - 264s 670ms/step - loss: 0.6855 - accuracy: 0.5274 - val_loss: 0.5726 - val_accuracy: 0.7542\n",
            "Epoch 2/10\n",
            "391/391 [==============================] - 265s 678ms/step - loss: 0.4808 - accuracy: 0.7839 - val_loss: 0.3683 - val_accuracy: 0.8402\n",
            "Epoch 3/10\n",
            "391/391 [==============================] - 259s 662ms/step - loss: 0.3558 - accuracy: 0.8473 - val_loss: 0.3561 - val_accuracy: 0.8445\n",
            "Epoch 4/10\n",
            "391/391 [==============================] - 259s 662ms/step - loss: 0.3791 - accuracy: 0.8352 - val_loss: 0.3497 - val_accuracy: 0.8508\n",
            "Epoch 5/10\n",
            "391/391 [==============================] - 262s 670ms/step - loss: 0.3253 - accuracy: 0.8639 - val_loss: 0.3306 - val_accuracy: 0.8572\n",
            "Epoch 6/10\n",
            "391/391 [==============================] - 258s 661ms/step - loss: 0.2899 - accuracy: 0.8799 - val_loss: 0.3198 - val_accuracy: 0.8630\n",
            "Epoch 7/10\n",
            "391/391 [==============================] - 260s 666ms/step - loss: 0.2565 - accuracy: 0.8973 - val_loss: 0.3198 - val_accuracy: 0.8628\n",
            "Epoch 8/10\n",
            "391/391 [==============================] - 260s 666ms/step - loss: 0.2246 - accuracy: 0.9120 - val_loss: 0.3156 - val_accuracy: 0.8699\n",
            "Epoch 9/10\n",
            "391/391 [==============================] - 261s 668ms/step - loss: 0.1959 - accuracy: 0.9250 - val_loss: 0.3222 - val_accuracy: 0.8649\n",
            "Epoch 10/10\n",
            "391/391 [==============================] - 259s 664ms/step - loss: 0.1671 - accuracy: 0.9363 - val_loss: 0.3565 - val_accuracy: 0.8668\n"
          ]
        }
      ]
    },
    {
      "cell_type": "markdown",
      "source": [
        "Here the highest validation accuracy acheived is approximately 87%.\n"
      ],
      "metadata": {
        "id": "ucHI21dYNqca"
      }
    },
    {
      "cell_type": "code",
      "source": [
        "def plot_history(history):\n",
        " \"\"\"Summarize history for accuracy and loss.\n",
        " \"\"\"\n",
        " plt.plot(history.history['accuracy'])\n",
        " plt.plot(history.history['val_accuracy'])\n",
        " plt.title('Model accuracy')\n",
        " plt.ylabel('accuracy')\n",
        " plt.xlabel('epoch')\n",
        " plt.legend(['train', 'valid'], loc='upper left')\n",
        " plt.show()\n",
        "\n",
        " \n",
        "plot_history(model.history)"
      ],
      "metadata": {
        "id": "iI-bpia5QujJ",
        "colab": {
          "base_uri": "https://localhost:8080/",
          "height": 295
        },
        "outputId": "908eabe5-454f-4268-9fd5-b3603357b4d1"
      },
      "execution_count": 26,
      "outputs": [
        {
          "output_type": "display_data",
          "data": {
            "text/plain": [
              "<Figure size 432x288 with 1 Axes>"
            ],
            "image/png": "[encoded data removed]"
          },
          "metadata": {
            "needs_background": "light"
          }
        }
      ]
    },
    {
      "cell_type": "markdown",
      "source": [
        "\n",
        "\n",
        "\n",
        "\n",
        "References:\n",
        "\n",
        "\n",
        "https://colab.research.google.com/drive/1gCCL5Qgl-cT5YhkUWedhOe53VIajFRMO?usp=sharing\n",
        "\n",
        "https://youtu.be/ivqXiW0X42Q\n",
        "\n",
        "https://www.kaggle.com/code/imdevskp/imdb-review-classification-lstm-gru-cnn-glove"
      ],
      "metadata": {
        "id": "EW_iwFLvON96"
      }
    }
  ]
}