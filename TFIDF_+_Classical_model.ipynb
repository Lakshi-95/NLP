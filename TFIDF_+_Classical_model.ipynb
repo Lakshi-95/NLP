{
  "cells": [
    {
      "cell_type": "markdown",
      "metadata": {
        "id": "zo860vXD0_ws"
      },
      "source": [
        "#TFIDF + Classical Model"
      ]
    },
    {
      "cell_type": "code",
      "execution_count": 1,
      "metadata": {
        "colab": {
          "base_uri": "https://localhost:8080/"
        },
        "id": "P4y654tc1UW6",
        "outputId": "049d7802-25a7-456d-9f05-4a20c8bc7ce5"
      },
      "outputs": [
        {
          "output_type": "stream",
          "name": "stdout",
          "text": [
            "Mounted at /content/drive\n"
          ]
        }
      ],
      "source": [
        "from google.colab import drive\n",
        "drive.mount('/content/drive')"
      ]
    },
    {
      "cell_type": "code",
      "execution_count": 2,
      "metadata": {
        "colab": {
          "base_uri": "https://localhost:8080/"
        },
        "id": "U6fW-lon1mtD",
        "outputId": "65f77812-3a8b-4104-bc52-eacbc9a3a432"
      },
      "outputs": [
        {
          "output_type": "stream",
          "name": "stderr",
          "text": [
            "[nltk_data] Downloading package punkt to /root/nltk_data...\n",
            "[nltk_data]   Unzipping tokenizers/punkt.zip.\n"
          ]
        }
      ],
      "source": [
        "#Importing modules\n",
        "import pandas as pd\n",
        "import sklearn\n",
        "from sklearn.feature_extraction.text import TfidfVectorizer\n",
        "import nltk\n",
        "from nltk.stem.porter import PorterStemmer\n",
        "from nltk.tokenize import word_tokenize\n",
        "nltk.download('punkt')\n",
        "from sklearn.linear_model import LogisticRegression\n",
        "from sklearn.ensemble import RandomForestClassifier"
      ]
    },
    {
      "cell_type": "code",
      "execution_count": 3,
      "metadata": {
        "id": "-bGPOQJX1DNU"
      },
      "outputs": [],
      "source": [
        "#Reading the train dataset\n",
        "df_train_tfi = pd.read_csv('/content/drive/MyDrive/IMDB_NLP/Train_reviews.csv',usecols = ['Review','Review_label'])\n",
        "#Reading the test dataset\n",
        "df_test_tfi = pd.read_csv('/content/drive/MyDrive/IMDB_NLP/Test_reviews.csv',usecols = ['Review','Review_label'])"
      ]
    },
    {
      "cell_type": "code",
      "execution_count": 4,
      "metadata": {
        "id": "hrLXcQrC1pAV"
      },
      "outputs": [],
      "source": [
        "#Tokenizing the data\n",
        "df_train_tfi['Review'] = df_train_tfi['Review'].apply(lambda x:word_tokenize(x))\n",
        "df_test_tfi['Review'] = df_test_tfi['Review'].apply(lambda x:word_tokenize(x))"
      ]
    },
    {
      "cell_type": "code",
      "execution_count": 5,
      "metadata": {
        "colab": {
          "base_uri": "https://localhost:8080/"
        },
        "id": "rYB6Ypem2IQa",
        "outputId": "0ff79d89-d30e-4b7f-d5a4-1f8636b8cf64"
      },
      "outputs": [
        {
          "output_type": "execute_result",
          "data": {
            "text/plain": [
              "0        [This, absolutely, terrible, movie, Dont, lure...\n",
              "1        [I, known, fall, asleep, films, usually, due, ...\n",
              "2        [Mann, photographs, Alberta, Rocky, Mountains,...\n",
              "3        [This, kind, film, snowy, Sunday, afternoon, r...\n",
              "4        [As, others, mentioned, women, go, nude, film,...\n",
              "                               ...                        \n",
              "24995    [I, severe, problem, show, several, actually, ...\n",
              "24996    [The, year, 1964, Ernesto, Che, Guevara, Cuban...\n",
              "24997    [Okay, So, I, got, back, Before, I, start, rev...\n",
              "24998    [When, I, saw, trailer, TV, I, surprised, In, ...\n",
              "24999    [First, Riget, wonderful, Good, comedy, myster...\n",
              "Name: Review, Length: 25000, dtype: object"
            ]
          },
          "metadata": {},
          "execution_count": 5
        }
      ],
      "source": [
        "#Let's have a look!\n",
        "df_train_tfi['Review']"
      ]
    },
    {
      "cell_type": "code",
      "execution_count": 6,
      "metadata": {
        "colab": {
          "base_uri": "https://localhost:8080/"
        },
        "id": "9I4KLsTE4Fr9",
        "outputId": "0285c177-1fa2-42fe-9742-df3987932028"
      },
      "outputs": [
        {
          "output_type": "execute_result",
          "data": {
            "text/plain": [
              "0        [There, films, make, careers, For, George, Rom...\n",
              "1        [A, blackly, comic, tale, downtrodden, priest,...\n",
              "2        [Scary, Movie, 14, Epic, Movie, Date, Movie, M...\n",
              "3        [Poor, Shirley, MacLaine, tries, hard, lend, g...\n",
              "4        [As, former, Erasmus, student, I, enjoyed, fil...\n",
              "                               ...                        \n",
              "24995    [Feeling, Minnesota, really, road, movie, that...\n",
              "24996    [This, without, doubt, one, favourite, horror,...\n",
              "24997    [Most, predicable, movie, Ive, ever, seenextre...\n",
              "24998    [Its, exactly, I, expected, Relaxing, humorous...\n",
              "24999    [They, dont, make, cartoons, like, used, This,...\n",
              "Name: Review, Length: 25000, dtype: object"
            ]
          },
          "metadata": {},
          "execution_count": 6
        }
      ],
      "source": [
        "df_test_tfi['Review']"
      ]
    },
    {
      "cell_type": "code",
      "execution_count": 7,
      "metadata": {
        "id": "F7HjuP-A2Uso"
      },
      "outputs": [],
      "source": [
        "#Lets convert it to Lowercase!\n",
        "df_train_tfi['Review'] = df_train_tfi['Review'].apply(lambda x: [i.lower() for i in x])\n",
        "df_test_tfi['Review'] = df_test_tfi['Review'].apply(lambda x: [i.lower() for i in x])"
      ]
    },
    {
      "cell_type": "code",
      "execution_count": 8,
      "metadata": {
        "colab": {
          "base_uri": "https://localhost:8080/"
        },
        "id": "9Nsa77G42RJz",
        "outputId": "b852e277-30e2-42d2-8de9-b7554ae6c370"
      },
      "outputs": [
        {
          "output_type": "execute_result",
          "data": {
            "text/plain": [
              "0        [this, absolutely, terrible, movie, dont, lure...\n",
              "1        [i, known, fall, asleep, films, usually, due, ...\n",
              "2        [mann, photographs, alberta, rocky, mountains,...\n",
              "3        [this, kind, film, snowy, sunday, afternoon, r...\n",
              "4        [as, others, mentioned, women, go, nude, film,...\n",
              "                               ...                        \n",
              "24995    [i, severe, problem, show, several, actually, ...\n",
              "24996    [the, year, 1964, ernesto, che, guevara, cuban...\n",
              "24997    [okay, so, i, got, back, before, i, start, rev...\n",
              "24998    [when, i, saw, trailer, tv, i, surprised, in, ...\n",
              "24999    [first, riget, wonderful, good, comedy, myster...\n",
              "Name: Review, Length: 25000, dtype: object"
            ]
          },
          "metadata": {},
          "execution_count": 8
        }
      ],
      "source": [
        "#Lets have a look!\n",
        "df_train_tfi['Review']"
      ]
    },
    {
      "cell_type": "code",
      "execution_count": 9,
      "metadata": {
        "colab": {
          "base_uri": "https://localhost:8080/"
        },
        "id": "PJ9beVNI4eo_",
        "outputId": "f673451c-63b8-4cdf-a4ca-12590f5bbe7e"
      },
      "outputs": [
        {
          "output_type": "execute_result",
          "data": {
            "text/plain": [
              "0        [there, films, make, careers, for, george, rom...\n",
              "1        [a, blackly, comic, tale, downtrodden, priest,...\n",
              "2        [scary, movie, 14, epic, movie, date, movie, m...\n",
              "3        [poor, shirley, maclaine, tries, hard, lend, g...\n",
              "4        [as, former, erasmus, student, i, enjoyed, fil...\n",
              "                               ...                        \n",
              "24995    [feeling, minnesota, really, road, movie, that...\n",
              "24996    [this, without, doubt, one, favourite, horror,...\n",
              "24997    [most, predicable, movie, ive, ever, seenextre...\n",
              "24998    [its, exactly, i, expected, relaxing, humorous...\n",
              "24999    [they, dont, make, cartoons, like, used, this,...\n",
              "Name: Review, Length: 25000, dtype: object"
            ]
          },
          "metadata": {},
          "execution_count": 9
        }
      ],
      "source": [
        "df_test_tfi['Review']"
      ]
    },
    {
      "cell_type": "code",
      "execution_count": 10,
      "metadata": {
        "id": "98KvWJri28rS"
      },
      "outputs": [],
      "source": [
        "#Stemming \n",
        "porter = PorterStemmer()\n",
        "df_train_tfi['Review'] = df_train_tfi['Review'].apply(lambda x:[porter.stem(i) for i in x])\n",
        "df_test_tfi['Review'] = df_test_tfi['Review'].apply(lambda x:[porter.stem(i) for i in x])"
      ]
    },
    {
      "cell_type": "code",
      "execution_count": 11,
      "metadata": {
        "id": "Bn3z3lcl25hS"
      },
      "outputs": [],
      "source": [
        "#Changing list to string\n",
        "df_train_tfi['Review'] = df_train_tfi['Review'].apply(lambda x:\" \".join(x))\n",
        "df_test_tfi['Review'] = df_test_tfi['Review'].apply(lambda x:\" \".join(x))"
      ]
    },
    {
      "cell_type": "code",
      "execution_count": 12,
      "metadata": {
        "colab": {
          "base_uri": "https://localhost:8080/"
        },
        "id": "gKwpJcPS3N6p",
        "outputId": "a3928b08-4609-437c-d2b5-b1c3ae2abb01"
      },
      "outputs": [
        {
          "output_type": "execute_result",
          "data": {
            "text/plain": [
              "0        thi absolut terribl movi dont lure christoph w...\n",
              "1        i known fall asleep film usual due combin thin...\n",
              "2        mann photograph alberta rocki mountain superb ...\n",
              "3        thi kind film snowi sunday afternoon rest worl...\n",
              "4        as other mention women go nude film mostli abs...\n",
              "                               ...                        \n",
              "24995    i sever problem show sever actual a simpl list...\n",
              "24996    the year 1964 ernesto che guevara cuban citize...\n",
              "24997    okay so i got back befor i start review let te...\n",
              "24998    when i saw trailer tv i surpris in may 2008 i ...\n",
              "24999    first riget wonder good comedi mysteri thrille...\n",
              "Name: Review, Length: 25000, dtype: object"
            ]
          },
          "metadata": {},
          "execution_count": 12
        }
      ],
      "source": [
        "#Lets have a look!\n",
        "df_train_tfi['Review']"
      ]
    },
    {
      "cell_type": "code",
      "execution_count": 13,
      "metadata": {
        "colab": {
          "base_uri": "https://localhost:8080/"
        },
        "id": "ApjHfRYq4swo",
        "outputId": "63225e0b-c2f8-40b8-b266-a80f48b0b43f"
      },
      "outputs": [
        {
          "output_type": "execute_result",
          "data": {
            "text/plain": [
              "0        there film make career for georg romero night ...\n",
              "1        a blackli comic tale downtrodden priest nazari...\n",
              "2        scari movi 14 epic movi date movi meet spartan...\n",
              "3        poor shirley maclain tri hard lend gravita maw...\n",
              "4        as former erasmu student i enjoy film much it ...\n",
              "                               ...                        \n",
              "24995    feel minnesota realli road movi that still bes...\n",
              "24996    thi without doubt one favourit horror film eve...\n",
              "24997    most predic movi ive ever seenextrem bore i fe...\n",
              "24998    it exactli i expect relax humor entertain the ...\n",
              "24999    they dont make cartoon like use thi one wit gr...\n",
              "Name: Review, Length: 25000, dtype: object"
            ]
          },
          "metadata": {},
          "execution_count": 13
        }
      ],
      "source": [
        "df_test_tfi['Review']"
      ]
    },
    {
      "cell_type": "markdown",
      "metadata": {
        "id": "I4NCV8943f-B"
      },
      "source": [
        "TFIDF Vectorisation"
      ]
    },
    {
      "cell_type": "markdown",
      "source": [
        "TFIDF - Term Frequency- Inverse Document Frequency"
      ],
      "metadata": {
        "id": "LKz7AhkJR2mG"
      }
    },
    {
      "cell_type": "code",
      "execution_count": 14,
      "metadata": {
        "id": "0Vx1J5nT3d1k"
      },
      "outputs": [],
      "source": [
        "#Using Tfidf Vectoriser\n",
        "tfidf_vec = TfidfVectorizer(max_features = 1000,ngram_range = (1,2))\n",
        "review_vec = tfidf_vec.fit_transform(df_train_tfi['Review']).toarray()"
      ]
    },
    {
      "cell_type": "code",
      "execution_count": null,
      "metadata": {
        "id": "X7zZttPj5dR1"
      },
      "outputs": [],
      "source": [
        "tfidf_vec_test = TfidfVectorizer(max_features = 1000,ngram_range = (1,2))\n",
        "review_vec_test = tfidf_vec_test.fit_transform(df_test_tfi['Review']).toarray()"
      ]
    },
    {
      "cell_type": "code",
      "execution_count": null,
      "metadata": {
        "id": "cHRYxvIb5hy0"
      },
      "outputs": [],
      "source": [
        "#Training and test data\n",
        "X_train = review_vec\n",
        "y_train = df_train_tfi['Review_label']\n",
        "X_test = review_vec_test\n",
        "y_test = df_test_tfi['Review_label']"
      ]
    },
    {
      "cell_type": "code",
      "execution_count": null,
      "metadata": {
        "id": "Rg71tFlM7xso"
      },
      "outputs": [],
      "source": [
        "from sklearn.model_selection import RepeatedStratifiedKFold\n",
        "from sklearn.model_selection import GridSearchCV\n",
        "import numpy as np"
      ]
    },
    {
      "cell_type": "markdown",
      "metadata": {
        "id": "OAd8D-ux6AFs"
      },
      "source": [
        "Logistic Regression"
      ]
    },
    {
      "cell_type": "code",
      "execution_count": null,
      "metadata": {
        "id": "TccbKurx56JV"
      },
      "outputs": [],
      "source": [
        "model_logistic=LogisticRegression()"
      ]
    },
    {
      "cell_type": "code",
      "execution_count": 19,
      "metadata": {
        "id": "D9N7ZQJd7Zu1"
      },
      "outputs": [],
      "source": [
        "solvers = [ 'lbfgs', 'liblinear']\n",
        "penalty = ['l1','l2']     #Creating regularisation penalty space\n",
        "C_values = [10,5, 1.0, 0.1, 0.01,0.02]    #Creating regularisation hyperparameter space\n",
        "hyper_parameters = dict(solver = solvers, penalty = penalty, C = C_values  )       #Creating hyperparameters space for Grid Search CV"
      ]
    },
    {
      "cell_type": "code",
      "source": [
        "\n",
        "cv = RepeatedStratifiedKFold(n_splits=5, n_repeats=4, random_state=1)\n",
        "grid_searchcv = GridSearchCV(estimator=model_logistic, param_grid=hyper_parameters, n_jobs=-1, cv=cv, scoring='accuracy')\n",
        "grid_model_logistic = grid_searchcv.fit(X_train, y_train)\n",
        "print(\"Best parameters =\", grid_model_logistic.best_params_)"
      ],
      "metadata": {
        "colab": {
          "base_uri": "https://localhost:8080/"
        },
        "id": "QN8C6B8ZgVQm",
        "outputId": "24a369f4-98e3-4921-abac-b6886087cb9e"
      },
      "execution_count": 20,
      "outputs": [
        {
          "output_type": "stream",
          "name": "stderr",
          "text": [
            "/usr/local/lib/python3.8/dist-packages/sklearn/model_selection/_validation.py:372: FitFailedWarning: \n",
            "120 fits failed out of a total of 480.\n",
            "The score on these train-test partitions for these parameters will be set to nan.\n",
            "If these failures are not expected, you can try to debug them by setting error_score='raise'.\n",
            "\n",
            "Below are more details about the failures:\n",
            "--------------------------------------------------------------------------------\n",
            "120 fits failed with the following error:\n",
            "Traceback (most recent call last):\n",
            "  File \"/usr/local/lib/python3.8/dist-packages/sklearn/model_selection/_validation.py\", line 680, in _fit_and_score\n",
            "    estimator.fit(X_train, y_train, **fit_params)\n",
            "  File \"/usr/local/lib/python3.8/dist-packages/sklearn/linear_model/_logistic.py\", line 1461, in fit\n",
            "    solver = _check_solver(self.solver, self.penalty, self.dual)\n",
            "  File \"/usr/local/lib/python3.8/dist-packages/sklearn/linear_model/_logistic.py\", line 447, in _check_solver\n",
            "    raise ValueError(\n",
            "ValueError: Solver lbfgs supports only 'l2' or 'none' penalties, got l1 penalty.\n",
            "\n",
            "  warnings.warn(some_fits_failed_message, FitFailedWarning)\n",
            "/usr/local/lib/python3.8/dist-packages/sklearn/model_selection/_search.py:969: UserWarning: One or more of the test scores are non-finite: [    nan 0.85415 0.85498 0.85501     nan 0.8549  0.85609 0.85609     nan\n",
            " 0.85764 0.85796 0.85797     nan 0.82191 0.84881 0.84876     nan 0.61345\n",
            " 0.81856 0.81857     nan 0.68879 0.82849 0.82855]\n",
            "  warnings.warn(\n"
          ]
        },
        {
          "output_type": "stream",
          "name": "stdout",
          "text": [
            "Best parameters = {'C': 1.0, 'penalty': 'l2', 'solver': 'liblinear'}\n"
          ]
        }
      ]
    },
    {
      "cell_type": "code",
      "source": [
        "model_logistic_best = LogisticRegression(C = 1, penalty = 'l2', solver = 'liblinear').fit(X_train, y_train)"
      ],
      "metadata": {
        "id": "IanSpJlhlIZ5"
      },
      "execution_count": 21,
      "outputs": []
    },
    {
      "cell_type": "code",
      "source": [
        "model_logistic_best.score(X_test,y_test)"
      ],
      "metadata": {
        "colab": {
          "base_uri": "https://localhost:8080/"
        },
        "id": "sLK0u9XlsYZN",
        "outputId": "35f351ea-c4ea-4e85-a4b4-8ed2ff0c9590"
      },
      "execution_count": 22,
      "outputs": [
        {
          "output_type": "execute_result",
          "data": {
            "text/plain": [
              "0.5774"
            ]
          },
          "metadata": {},
          "execution_count": 22
        }
      ]
    },
    {
      "cell_type": "markdown",
      "source": [
        "References:\n",
        "\n",
        "https://machinelearningmastery.com/hyperparameters-for-classification-machine-learning-algorithms/\n",
        "\n",
        "https://www.kaggle.com/code/sohamdas27/imdb-movie-review-eda-sentiment-analysis\n",
        "\n",
        "https://youtu.be/*6C0sLtw5ctc*"
      ],
      "metadata": {
        "id": "o38b3pVPVCUm"
      }
    }
  ],
  "metadata": {
    "colab": {
      "provenance": []
    },
    "kernelspec": {
      "display_name": "Python 3",
      "name": "python3"
    },
    "language_info": {
      "name": "python"
    }
  },
  "nbformat": 4,
  "nbformat_minor": 0
}